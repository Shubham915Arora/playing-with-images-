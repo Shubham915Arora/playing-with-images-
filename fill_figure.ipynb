{
 "cells": [
  {
   "cell_type": "code",
   "execution_count": null,
   "metadata": {},
   "outputs": [],
   "source": [
    "import numpy as np \n",
    "import pandas as pd \n",
    "import matplotlib.pyplot as plt \n",
    "import cv2\n"
   ]
  },
  {
   "cell_type": "code",
   "execution_count": null,
   "metadata": {},
   "outputs": [],
   "source": [
    "img =cv2.imread(\"A.png\")"
   ]
  },
  {
   "cell_type": "code",
   "execution_count": null,
   "metadata": {},
   "outputs": [],
   "source": [
    "img.size"
   ]
  },
  {
   "cell_type": "code",
   "execution_count": null,
   "metadata": {},
   "outputs": [],
   "source": [
    "white=[255,255,255]\n",
    "red=[255,0,0]\n",
    "black=[0,0,0]"
   ]
  },
  {
   "cell_type": "code",
   "execution_count": null,
   "metadata": {},
   "outputs": [],
   "source": [
    "def fill(img,i,j):\n",
    "    if all(img[i,j]==white):\n",
    "        img[i][j]=red\n",
    "        if all(img[i+1,j] == white):\n",
    "            fill(img,i+1,j)\n",
    "        elif all(img[i-1,j]==white):\n",
    "            fill(img,i-1,j)\n",
    "        elif all(img[i,j+1]==white):\n",
    "            fill(img,i,j+1)\n",
    "        elif all(img[i,j-1]==white):\n",
    "            fill(img,i-1,j-1)\n",
    "        return img"
   ]
  },
  {
   "cell_type": "code",
   "execution_count": null,
   "metadata": {},
   "outputs": [],
   "source": [
    "height,width,channels=img.shape\n",
    "i=int(height/2)\n",
    "j=int(width/2)\n",
    "img=fill(img,i,j)"
   ]
  },
  {
   "cell_type": "code",
   "execution_count": null,
   "metadata": {},
   "outputs": [],
   "source": [
    "height,width,channels=img.shape\n",
    "\n",
    "for i in range(0,height): \n",
    "    for j in range(0,width):\n",
    "        k=j\n",
    "        if all(img[i,j] != white):\n",
    "            if all(img[i,j+1]==white) :\n",
    "                k=k+1\n",
    "                img[i][k]=red\n"
   ]
  },
  {
   "cell_type": "code",
   "execution_count": null,
   "metadata": {},
   "outputs": [],
   "source": []
  },
  {
   "cell_type": "code",
   "execution_count": null,
   "metadata": {},
   "outputs": [],
   "source": [
    "Inside = 0\n",
    "height,width,channels=img.shape\n",
    "\n",
    "for x in range(height):\n",
    "    for y in range(width):\n",
    "        if all( img[x][y] != white) and all(img[x][y+1] == white):\n",
    "            Inside = 1\n",
    "            img[x][y+1]=red\n",
    "            if all(img[x][y+2]==black):\n",
    "                Inside =0\n",
    "                y=y+\n",
    "            if any(img[x][y] == white) and Inside==0:\n",
    "                 pass\n",
    "\n",
    "plt.imshow(img)"
   ]
  },
  {
   "cell_type": "code",
   "execution_count": null,
   "metadata": {},
   "outputs": [],
   "source": []
  },
  {
   "cell_type": "code",
   "execution_count": null,
   "metadata": {},
   "outputs": [],
   "source": [
    "\n",
    "plt.imshow(img)"
   ]
  },
  {
   "cell_type": "code",
   "execution_count": null,
   "metadata": {},
   "outputs": [],
   "source": [
    "cv2.imshow('img',img)\n",
    "cv2.waitKey(0)\n",
    "cv2.destroyAllWindows()"
   ]
  },
  {
   "cell_type": "code",
   "execution_count": null,
   "metadata": {},
   "outputs": [],
   "source": []
  },
  {
   "cell_type": "code",
   "execution_count": null,
   "metadata": {},
   "outputs": [],
   "source": []
  },
  {
   "cell_type": "code",
   "execution_count": null,
   "metadata": {},
   "outputs": [],
   "source": []
  }
 ],
 "metadata": {
  "kernelspec": {
   "display_name": "Python 3",
   "language": "python",
   "name": "python3"
  },
  "language_info": {
   "codemirror_mode": {
    "name": "ipython",
    "version": 3
   },
   "file_extension": ".py",
   "mimetype": "text/x-python",
   "name": "python",
   "nbconvert_exporter": "python",
   "pygments_lexer": "ipython3",
   "version": "3.7.3"
  }
 },
 "nbformat": 4,
 "nbformat_minor": 2
}
